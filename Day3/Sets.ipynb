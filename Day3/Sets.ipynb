{
 "cells": [
  {
   "cell_type": "code",
   "execution_count": 6,
   "metadata": {},
   "outputs": [
    {
     "name": "stdout",
     "output_type": "stream",
     "text": [
      "{1, 2, 3, 4}\n",
      "{'a', 'b'}\n"
     ]
    }
   ],
   "source": [
    "# 1 Program to create a set\n",
    "sett = {1,1,2,3,3,3,4}\n",
    "print(sett)\n",
    "setA = set()\n",
    "setA.add('a')\n",
    "setA.add('b')\n",
    "print(setA)"
   ]
  },
  {
   "cell_type": "code",
   "execution_count": 7,
   "metadata": {},
   "outputs": [
    {
     "name": "stdout",
     "output_type": "stream",
     "text": [
      "1\n",
      "2\n",
      "3\n",
      "4\n"
     ]
    }
   ],
   "source": [
    "# 2 program to iterate over a set\n",
    "for i in sett:\n",
    "    print(i)"
   ]
  },
  {
   "cell_type": "code",
   "execution_count": 8,
   "metadata": {},
   "outputs": [
    {
     "name": "stdout",
     "output_type": "stream",
     "text": [
      "{'a', 'b'}\n"
     ]
    }
   ],
   "source": [
    "# 3 program to invoke add method on sets\n",
    "setA = set()\n",
    "setA.add('a')\n",
    "setA.add('b')\n",
    "print(setA)"
   ]
  },
  {
   "cell_type": "code",
   "execution_count": 10,
   "metadata": {},
   "outputs": [
    {
     "name": "stdout",
     "output_type": "stream",
     "text": [
      "{2, 3, 4}\n"
     ]
    }
   ],
   "source": [
    "# 4 program to remove elements from sets\n",
    "sett = {1,1,2,3,3,3,4}\n",
    "sett.remove(1)\n",
    "print(sett)"
   ]
  },
  {
   "cell_type": "code",
   "execution_count": 16,
   "metadata": {},
   "outputs": [
    {
     "name": "stdout",
     "output_type": "stream",
     "text": [
      "Enter the element to be deleted: 4\n",
      "4\n",
      "{1, 2, 3}\n"
     ]
    }
   ],
   "source": [
    "# 5 Search and remove from set \n",
    "sett = {1,1,2,3,3,3,4}\n",
    "n = int(input(\"Enter the element to be deleted: \"))\n",
    "\n",
    "i = 1\n",
    "while i <= len(sett):\n",
    "    if i == n:\n",
    "        sett.remove(i)\n",
    "    i = i+1\n",
    "print(sett)"
   ]
  },
  {
   "cell_type": "code",
   "execution_count": 19,
   "metadata": {},
   "outputs": [
    {
     "name": "stdout",
     "output_type": "stream",
     "text": [
      "{3, 4, 5}\n"
     ]
    }
   ],
   "source": [
    "#6 intersection of two sets\n",
    "set1 = {1,2,3,4,5}\n",
    "set2 = {3,4,5,6,7,8}\n",
    "set3 = set1&set2\n",
    "#set3 = set1.intersection(set2)\n",
    "print(set3)"
   ]
  },
  {
   "cell_type": "code",
   "execution_count": 21,
   "metadata": {},
   "outputs": [
    {
     "name": "stdout",
     "output_type": "stream",
     "text": [
      "{1, 2, 3, 4, 5, 6, 7, 8}\n"
     ]
    }
   ],
   "source": [
    "#7  Uniion of two sets\n",
    "set1 = {1,2,3,4,5}\n",
    "set2 = {3,4,5,6,7,8}\n",
    "set3 = set1|set2\n",
    "#set3 = set1.union(set2)\n",
    "print(set3)"
   ]
  },
  {
   "cell_type": "code",
   "execution_count": 27,
   "metadata": {},
   "outputs": [
    {
     "name": "stdout",
     "output_type": "stream",
     "text": [
      "{8, 6, 7}\n"
     ]
    }
   ],
   "source": [
    "# 8 Difference of two sets\n",
    "set1 = {1,2,3,4,5}\n",
    "set2 = {3,4,5,6,7,8}\n",
    "#set3 = set1-set2\n",
    "set3 = set2.difference(set1)\n",
    "print(set3)"
   ]
  },
  {
   "cell_type": "code",
   "execution_count": 30,
   "metadata": {},
   "outputs": [
    {
     "name": "stdout",
     "output_type": "stream",
     "text": [
      "{1, 2, 6, 7, 8}\n"
     ]
    }
   ],
   "source": [
    "# 9 symetric difference\n",
    "set1 = {1,2,3,4,5}\n",
    "set2 = {3,4,5,6,7,8}\n",
    "symetric_diff = (set1-set2)|(set2-set1)\n",
    "#symetric_diff = set1.symmetric_difference(set2)\n",
    "print(symetric_diff)"
   ]
  },
  {
   "cell_type": "code",
   "execution_count": 33,
   "metadata": {},
   "outputs": [
    {
     "name": "stdout",
     "output_type": "stream",
     "text": [
      "True\n",
      "True\n",
      "False\n",
      "False\n"
     ]
    }
   ],
   "source": [
    "# 10 is subset or superset\n",
    "set1 = {1,2,3,4,5}\n",
    "set2 = {1,2,3,4,5,6,7,8}\n",
    "print(set1.issubset(set2))\n",
    "print(set2.issuperset(set1))\n",
    "print(set2.issubset(set1))\n",
    "print(set1.issuperset(set2))"
   ]
  },
  {
   "cell_type": "code",
   "execution_count": 37,
   "metadata": {},
   "outputs": [
    {
     "name": "stdout",
     "output_type": "stream",
     "text": [
      "{1, 2, 3, 4, 5}\n",
      "set()\n"
     ]
    }
   ],
   "source": [
    "# 12 clear a set\n",
    "set1 = {1,2,3,4,5}\n",
    "print(set1)\n",
    "set1.clear()\n",
    "print(set1)"
   ]
  },
  {
   "cell_type": "code",
   "execution_count": 6,
   "metadata": {},
   "outputs": [
    {
     "name": "stdout",
     "output_type": "stream",
     "text": [
      "frozenset({2, 3, 4, 5, 6})\n"
     ]
    }
   ],
   "source": [
    "#frozen sets\n",
    "froz_set = frozenset([2,3,3,4,5,5,6])\n",
    "print(froz_set)"
   ]
  },
  {
   "cell_type": "code",
   "execution_count": 7,
   "metadata": {},
   "outputs": [
    {
     "name": "stdout",
     "output_type": "stream",
     "text": [
      "{2, 3, 4, 5}\n"
     ]
    }
   ],
   "source": [
    "#shalow copy\n",
    "set1 = set([4,5,3,2])\n",
    "set2 = set1.copy()\n",
    "print(set2)"
   ]
  },
  {
   "cell_type": "code",
   "execution_count": 41,
   "metadata": {},
   "outputs": [
    {
     "name": "stdout",
     "output_type": "stream",
     "text": [
      "8\n"
     ]
    }
   ],
   "source": [
    "# 15 length of a set \n",
    "set2 = {1,2,3,4,5,6,7,8}\n",
    "set.\n",
    "print(len(set2))"
   ]
  },
  {
   "cell_type": "code",
   "execution_count": 11,
   "metadata": {},
   "outputs": [],
   "source": [
    "# #min max of a set\n",
    "# my_set = {1,1,2,3,3,3,4}\n",
    "# Min(my_set)\n",
    "# Max(my_set)"
   ]
  },
  {
   "cell_type": "code",
   "execution_count": null,
   "metadata": {},
   "outputs": [],
   "source": []
  },
  {
   "cell_type": "code",
   "execution_count": null,
   "metadata": {},
   "outputs": [],
   "source": []
  }
 ],
 "metadata": {
  "kernelspec": {
   "display_name": "Python 3",
   "language": "python",
   "name": "python3"
  },
  "language_info": {
   "codemirror_mode": {
    "name": "ipython",
    "version": 3
   },
   "file_extension": ".py",
   "mimetype": "text/x-python",
   "name": "python",
   "nbconvert_exporter": "python",
   "pygments_lexer": "ipython3",
   "version": "3.6.3"
  }
 },
 "nbformat": 4,
 "nbformat_minor": 2
}

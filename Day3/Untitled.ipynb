{
 "cells": [
  {
   "cell_type": "code",
   "execution_count": 1,
   "metadata": {},
   "outputs": [],
   "source": [
    "# Python programs on python "
   ]
  },
  {
   "cell_type": "code",
   "execution_count": 8,
   "metadata": {},
   "outputs": [
    {
     "name": "stdout",
     "output_type": "stream",
     "text": [
      "Maximum value is:  19\n",
      "Minumum value is:  1\n"
     ]
    }
   ],
   "source": [
    "#1 min max\n",
    "array = [2,1,3,6,19]\n",
    "\n",
    "def min_max(a):\n",
    "    minimum = a[0]\n",
    "    maximum = a[0]\n",
    "    for i in a:\n",
    "        if i < minimum:\n",
    "            minimum = i\n",
    "        if i > maximum:\n",
    "            maximum = i\n",
    "    print(\"Maximum value is: \", maximum)\n",
    "    print(\"Minumum value is: \", minimum)\n",
    "min_max(array)\n",
    "    "
   ]
  },
  {
   "cell_type": "code",
   "execution_count": 9,
   "metadata": {},
   "outputs": [
    {
     "name": "stdout",
     "output_type": "stream",
     "text": [
      "Sum is:  31\n"
     ]
    }
   ],
   "source": [
    "#2 sum of all numbers of array\n",
    "array = [2,1,3,6,19]\n",
    "def summation(a):\n",
    "    sum = 0\n",
    "    for i in a:\n",
    "        sum = sum+i\n",
    "    return sum\n",
    "summ = summation(array)\n",
    "print(\"Sum is: \",summ)"
   ]
  },
  {
   "cell_type": "code",
   "execution_count": 13,
   "metadata": {},
   "outputs": [
    {
     "name": "stdout",
     "output_type": "stream",
     "text": [
      "Which operation you want to perform: a-addtion, s , m or d a\n",
      "Enter argument 1: 1\n",
      "Enter argument 2: 2\n",
      "3\n"
     ]
    }
   ],
   "source": [
    "#3 basic arithmetic operations\n",
    "def addition(a,b):\n",
    "    summ = a+b\n",
    "    return summ\n",
    "def subtration(a,b):\n",
    "    difference = a-b\n",
    "    return difference\n",
    "def multiplication(a,b):\n",
    "    product = a*b\n",
    "    return product\n",
    "def division(a,b):\n",
    "    if b!=0:\n",
    "        quotient = a/b\n",
    "        return quotient\n",
    "    else:\n",
    "        print(\"invalid denominator\")\n",
    "        \n",
    "def call(operation):\n",
    "    a = int(input(\"Enter argument 1: \"))\n",
    "    b = int(input(\"Enter argument 2: \"))\n",
    "    if operation == \"a\":\n",
    "        print(addition(a,b))\n",
    "    elif operation == \"s\":\n",
    "        print(subtration(a,b))\n",
    "    elif operation == \"m\":\n",
    "        print(multiplication(a,b))             \n",
    "    elif operation == \"d\":\n",
    "        print(division(a,b)) \n",
    "    else:\n",
    "        print(\" \")\n",
    "oper = input(\"Which operation you want to perform: a-addtion, s , m or d \")\n",
    "call(oper)"
   ]
  },
  {
   "cell_type": "code",
   "execution_count": 14,
   "metadata": {},
   "outputs": [
    {
     "name": "stdout",
     "output_type": "stream",
     "text": [
      "Enter the number for which you want to find the fasctorial: 4\n",
      "Factorial of 4 is 24\n"
     ]
    }
   ],
   "source": [
    "#4 Factorial of a number using recursion \n",
    "def fact(num):\n",
    "    if num == 1:\n",
    "        return 1\n",
    "    else:\n",
    "        return num*fact(num-1)\n",
    "x = int(input(\"Enter the number for which you want to find the fasctorial: \"))\n",
    "print(\"Factorial of %s is %s\"%(x, fact(x)))\n"
   ]
  },
  {
   "cell_type": "code",
   "execution_count": 19,
   "metadata": {},
   "outputs": [
    {
     "name": "stdout",
     "output_type": "stream",
     "text": [
      "Enter the value nume of figure for which you want to find area\n",
      "r -rectangle, t- triangle, s-square,rh- rhombus \n",
      "Enter the value nume of figure for which you wnat to find areat\n",
      "Enter the base: 2\n",
      "Enter the altitude: 3\n",
      "3.0\n"
     ]
    }
   ],
   "source": [
    "# 5 Ara of rectangle ,triangle , square and rhombus\n",
    "def area_rectangle(length,breadth):\n",
    "    area = length*breadth\n",
    "    return area\n",
    "def area_triangle(base,altitude):\n",
    "    area = 1/2*(base*altitude)\n",
    "    return area\n",
    "def area_square(length):\n",
    "    area = length**2\n",
    "    return area\n",
    "def area_rhombus(diagonal1,diagonal2):\n",
    "    area = 1/2*(diagonal1*diagonal2)\n",
    "    return area\n",
    "def area():\n",
    "    print(\"Enter the value nume of figure for which you want to find area\")\n",
    "    print(\"r -rectangle, t- triangle, s-square,rh- rhombus \")\n",
    "    figure = input(\"Enter the value nume of figure for which you wnat to find area\")\n",
    "    if figure == 'r':\n",
    "        length = int(input(\"Enter the length: \"))\n",
    "        breadth = int(input(\"Enter the breadth: \"))\n",
    "        print(area_rectangle(length,breadth))\n",
    "    elif figure == 't':\n",
    "        base = int(input(\"Enter the base: \"))\n",
    "        altitude = int(input(\"Enter the altitude: \"))\n",
    "        print(area_triangle(base,altitude))\n",
    "    elif figure == 's':\n",
    "        length = int(input(\"Enter the length: \"))\n",
    "        print(area_square(length))\n",
    "    elif figure == 'rh':\n",
    "        diagonal = int(input(\"Enter the diagonal: \"))\n",
    "        diagonalll = int(input(\"Enter the diagonal-2: \"))\n",
    "        print(area_rhombus(diagonal,diagonalll))\n",
    "area()\n",
    "    "
   ]
  },
  {
   "cell_type": "code",
   "execution_count": 22,
   "metadata": {},
   "outputs": [
    {
     "name": "stdout",
     "output_type": "stream",
     "text": [
      "4\n",
      "3\n"
     ]
    }
   ],
   "source": [
    "# swap\n",
    "def swapp(val1,val2):\n",
    "    return val2,val1\n",
    "var = 3\n",
    "var2 = 4\n",
    "\n",
    "var,var2 = swapp(var,var2)\n",
    "print(var)\n",
    "print(var2)\n"
   ]
  },
  {
   "cell_type": "code",
   "execution_count": 25,
   "metadata": {},
   "outputs": [
    {
     "name": "stdout",
     "output_type": "stream",
     "text": [
      "[3, 2, 1, 4, 5]\n"
     ]
    }
   ],
   "source": [
    "# unique elements\n",
    "def unique(array):\n",
    "    b = []\n",
    "    for i in array:\n",
    "        if i not in b:\n",
    "            b.append(i)\n",
    "    return b\n",
    "a = [3,2,3,2,1,4,5]\n",
    "b = unique(a)\n",
    "print(b)\n"
   ]
  },
  {
   "cell_type": "code",
   "execution_count": null,
   "metadata": {},
   "outputs": [],
   "source": []
  }
 ],
 "metadata": {
  "kernelspec": {
   "display_name": "Python 3",
   "language": "python",
   "name": "python3"
  },
  "language_info": {
   "codemirror_mode": {
    "name": "ipython",
    "version": 3
   },
   "file_extension": ".py",
   "mimetype": "text/x-python",
   "name": "python",
   "nbconvert_exporter": "python",
   "pygments_lexer": "ipython3",
   "version": "3.6.3"
  }
 },
 "nbformat": 4,
 "nbformat_minor": 2
}

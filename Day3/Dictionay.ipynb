{
 "cells": [
  {
   "cell_type": "code",
   "execution_count": 2,
   "metadata": {},
   "outputs": [
    {
     "name": "stdout",
     "output_type": "stream",
     "text": [
      "3\n"
     ]
    }
   ],
   "source": [
    "#1 sort dictionary by value\n",
    "\n",
    "dic = {'a':3, 'b':2, 'c': 1, 'd': 5, 'e':4}\n",
    "\n",
    "print(dic['a'])\n",
    "\n",
    "for i in dic:\n",
    "    j = \n",
    "    while j in \n"
   ]
  },
  {
   "cell_type": "code",
   "execution_count": 6,
   "metadata": {},
   "outputs": [
    {
     "name": "stdout",
     "output_type": "stream",
     "text": [
      "{'a': 3, 'b': 2, 'c': 1, 'd': 5, 'e': 4, 'f': 6}\n"
     ]
    }
   ],
   "source": [
    "# add a key to dictionary\n",
    "dic = {'a':3, 'b':2, 'c': 1, 'd': 5, 'e':4}\n",
    "dic.update({'f':6})\n",
    "print(dic)"
   ]
  },
  {
   "cell_type": "code",
   "execution_count": 7,
   "metadata": {},
   "outputs": [
    {
     "name": "stdout",
     "output_type": "stream",
     "text": [
      "{'a': 3, 'b': 2, 'c': 1, 'd': 5, 'e': 4, 'f': 6, 'g': 7, 'h': 8}\n"
     ]
    }
   ],
   "source": [
    "#3 concatinating the dictionaries\n",
    "dic = {'a':3, 'b':2, 'c': 1, 'd': 5, 'e':4}\n",
    "dic2 = {'f':6, 'g':7, 'h': 8}\n",
    "dic3 = dic.update(dic2)\n",
    "print(dic)"
   ]
  },
  {
   "cell_type": "code",
   "execution_count": 14,
   "metadata": {},
   "outputs": [
    {
     "name": "stdout",
     "output_type": "stream",
     "text": [
      "Dictionary\n"
     ]
    }
   ],
   "source": [
    "#4 is dictionay \n",
    "dic2 = {'f':6, 'g':7, 'h': 8}\n",
    "dic = 7\n",
    "\n",
    "if type(dic2)==dict:\n",
    "    print(\"Dictionary\")\n",
    "else:\n",
    "    print(\"Not Dictioanry\")\n"
   ]
  },
  {
   "cell_type": "code",
   "execution_count": 1,
   "metadata": {},
   "outputs": [
    {
     "name": "stdout",
     "output_type": "stream",
     "text": [
      "6 7 8 "
     ]
    }
   ],
   "source": [
    "# 5 Iterate over the dictionary using for loop\n",
    "dic2 = {'f':6, 'g':7, 'h': 8}\n",
    "for  i in dic2:\n",
    "    print(dic2[i], end=' ')"
   ]
  },
  {
   "cell_type": "code",
   "execution_count": 21,
   "metadata": {},
   "outputs": [
    {
     "name": "stdout",
     "output_type": "stream",
     "text": [
      "Enter the number of elements of dictionary5\n",
      "{1: 1, 2: 4, 3: 9, 4: 16, 5: 25}\n"
     ]
    }
   ],
   "source": [
    "#6 generate and print dictionay in the form of n, n^2\n",
    "n = int(input(\"Enter the number of elements of dictionary\"))\n",
    "dic = {}\n",
    "for i in range(1,n+1):\n",
    "    dic.update({i:i**2})\n",
    "print(dic)"
   ]
  },
  {
   "cell_type": "code",
   "execution_count": 2,
   "metadata": {},
   "outputs": [
    {
     "name": "stdout",
     "output_type": "stream",
     "text": [
      "{1: 1, 2: 4, 3: 9, 4: 16, 5: 25, 6: 36, 7: 49, 8: 64, 9: 81, 10: 100, 11: 121, 12: 144, 13: 169, 14: 196, 15: 225}\n"
     ]
    }
   ],
   "source": [
    "#7 generate and print dictionay in the form of n, n^2\n",
    "\n",
    "dic = {}\n",
    "for i in range(1,16):\n",
    "    dic.update({i:i**2})\n",
    "print(dic)"
   ]
  },
  {
   "cell_type": "code",
   "execution_count": 3,
   "metadata": {},
   "outputs": [
    {
     "name": "stdout",
     "output_type": "stream",
     "text": [
      "819\n"
     ]
    }
   ],
   "source": [
    "# 10 sum all the items in a dictionaray\n",
    "dic = {}\n",
    "for i in range(1,n+1):\n",
    "    dic.update({i:i**2})\n",
    "summ = 0\n",
    "for i in dic:\n",
    "    summ = summ+dic[i]\n",
    "print(summ)"
   ]
  },
  {
   "cell_type": "code",
   "execution_count": 4,
   "metadata": {},
   "outputs": [
    {
     "name": "stdout",
     "output_type": "stream",
     "text": [
      "38775788043632640000\n"
     ]
    }
   ],
   "source": [
    "#11 program to multiply all the elements of a dictionary\n",
    "dic = {}\n",
    "for i in range(1,n+1):\n",
    "    dic.update({i:i**2})\n",
    "mul = 1\n",
    "for i in dic:\n",
    "    mul = mul*dic[i]\n",
    "print(mul)"
   ]
  },
  {
   "cell_type": "code",
   "execution_count": 9,
   "metadata": {},
   "outputs": [
    {
     "name": "stdout",
     "output_type": "stream",
     "text": [
      "{1: 1, 2: 4, 3: 9, 4: 16, 5: 25, 6: 36, 7: 49, 8: 64, 9: 81, 10: 100, 11: 121, 12: 144, 13: 169}\n",
      "{1: 1, 2: 4, 5: 25, 6: 36, 7: 49, 8: 64, 9: 81, 10: 100, 11: 121, 12: 144, 13: 169}\n"
     ]
    }
   ],
   "source": [
    "#12 remove element by key\n",
    "dic = {}\n",
    "for i in range(1,n+1):\n",
    "    dic.update({i:i**2})\n",
    "mul = 1\n",
    "print(dic)\n",
    "dic.pop(3)\n",
    "del dic[4]\n",
    "print(dic)"
   ]
  },
  {
   "cell_type": "code",
   "execution_count": 13,
   "metadata": {},
   "outputs": [
    {
     "name": "stdout",
     "output_type": "stream",
     "text": [
      "{1: 1, 2: 4, 3: 6, 4: 16}\n"
     ]
    }
   ],
   "source": [
    "#13 map two lists into dictionary\n",
    "\n",
    "list1 = [1,2,3,4]\n",
    "list2 = [1,4,9,16]\n",
    "dic = dict(zip(list1,list2))\n",
    "print(dic)"
   ]
  },
  {
   "cell_type": "code",
   "execution_count": 17,
   "metadata": {},
   "outputs": [
    {
     "name": "stdout",
     "output_type": "stream",
     "text": [
      "['a', 'b', 'c', 'd', 'e']\n"
     ]
    }
   ],
   "source": [
    "#14 sort dictionay by key\n",
    "dic = {'a':3, 'b':2, 'd': 5,'c': 1, 'e':4}\n",
    "sort = sorted(dic)\n",
    "print(sort)"
   ]
  },
  {
   "cell_type": "code",
   "execution_count": 34,
   "metadata": {},
   "outputs": [
    {
     "name": "stdout",
     "output_type": "stream",
     "text": [
      "1\n",
      "5\n"
     ]
    }
   ],
   "source": [
    "# 15 max and min of dictioary\n",
    "dic = {'a':3, 'b':2, 'd': 5,'c': 1, 'e':4}\n",
    "minn=maxx=dic.pop('a')\n",
    "for i in dic:\n",
    "    if dic[i] < minn:\n",
    "        minn = dic[i]\n",
    "    if dic[i] > maxx:\n",
    "        maxx = dic[i]\n",
    "print(minn)\n",
    "print(maxx)"
   ]
  },
  {
   "cell_type": "code",
   "execution_count": 55,
   "metadata": {},
   "outputs": [
    {
     "data": {
      "text/plain": [
       "{'a': 1, 'b': 2, 'c': 3}"
      ]
     },
     "execution_count": 55,
     "metadata": {},
     "output_type": "execute_result"
    }
   ],
   "source": [
    "#16 create dictionay form objects fields\n",
    "class Myclass:\n",
    "    a = 1\n",
    "    b = 2\n",
    "    c = 3\n",
    "    def dic(self):\n",
    "        d = {}\n",
    "        d['a'] = self.a\n",
    "        d['b'] = self.b\n",
    "        d['c'] = self.c\n",
    "        return d\n",
    "\n",
    "my = Myclass()\n",
    "my.dic()"
   ]
  },
  {
   "cell_type": "code",
   "execution_count": 9,
   "metadata": {},
   "outputs": [
    {
     "name": "stdout",
     "output_type": "stream",
     "text": [
      "dict_values([2, 2, 5, 1, 1])\n",
      "{'a': 2, 'c': 5, 'd': 1}\n"
     ]
    }
   ],
   "source": [
    "#17 remove duplicates from dictionary\n",
    "dic = {'a':2, 'b':2, 'c': 5,'d': 1, 'e':1}\n",
    "rdic = {}\n",
    "\n",
    "for i in dic.items():\n",
    "    if i[1] not in rdic.values():\n",
    "        rdic.update({i})\n",
    "print(rdic)"
   ]
  },
  {
   "cell_type": "code",
   "execution_count": 5,
   "metadata": {},
   "outputs": [
    {
     "name": "stdout",
     "output_type": "stream",
     "text": [
      "not empty\n"
     ]
    }
   ],
   "source": [
    "#18 check wether dictionay is empty or nor\n",
    "dic = {'a':3, 'b':2, 'c': 5,'d': 1, 'e':4}\n",
    "dic2 = {}\n",
    "\n",
    "if dic == {}:\n",
    "    print(\"Empty\")\n",
    "else:\n",
    "    print(\"not empty\")"
   ]
  },
  {
   "cell_type": "code",
   "execution_count": 16,
   "metadata": {},
   "outputs": [
    {
     "name": "stdout",
     "output_type": "stream",
     "text": [
      "{'a': 6, 'b': 4, 'e': 8}\n",
      "{'a': 6, 'b': 4, 'e': 8, 'c': 5, 'd': 1, 'x': 5, 'f': 4}\n"
     ]
    }
   ],
   "source": [
    "#19\n",
    "#??????????????????????????????????????????????????????\n",
    "dic = {'a':3, 'b':2, 'c': 5,'d': 1, 'e':4}\n",
    "dic2 = {'a':3, 'b':2, 'x':5,'e':4,'f':4}\n",
    "counter = {}\n",
    "for i in dic:\n",
    "    for j in dic2:\n",
    "        if i==j:\n",
    "            counter.update({i:(dic[i]+dic[j])})\n",
    "print(counter)\n",
    "for i in dic.items():\n",
    "    if i[0] not in counter.keys():\n",
    "        counter.update({i})\n",
    "for i in dic2.items():\n",
    "    if i[0] not in counter.keys():\n",
    "        counter.update({i})\n",
    "\n",
    "print(counter)"
   ]
  },
  {
   "cell_type": "code",
   "execution_count": 47,
   "metadata": {},
   "outputs": [
    {
     "name": "stdout",
     "output_type": "stream",
     "text": [
      "{'d': 1, 'b': 2, 'a': 3, 'e': 4, 'c': 5}\n"
     ]
    }
   ],
   "source": [
    "#sort dictionary by values\n",
    "dic = {'a':3, 'b':2, 'c': 5,'d': 1, 'e':4}\n",
    "temp = {}\n",
    "sort = {}\n",
    "for i in dic:\n",
    "    temp.update({dic[i]:i})\n",
    "\n",
    "temp = sorted(temp.items())\n",
    "temp = dict(temp)\n",
    "sort = dict(zip(temp.values(),t2emp.keys()))\n",
    "print(sort)"
   ]
  },
  {
   "cell_type": "code",
   "execution_count": null,
   "metadata": {},
   "outputs": [],
   "source": [
    "#20remove duplicates from dictionary\n",
    "dic = {'a':2, 'b':2, 'c': 5,'d': 1, 'e':1}\n",
    "rdic = {}\n",
    "\n",
    "for i in dic.items():\n",
    "    if i[1] not in rdic.values():\n",
    "        rdic.update({i})\n",
    "print(rdic)"
   ]
  },
  {
   "cell_type": "code",
   "execution_count": 50,
   "metadata": {},
   "outputs": [
    {
     "name": "stdout",
     "output_type": "stream",
     "text": [
      "{'1': ['a', 'b'], '2': ['c', 'd']}\n",
      "a\n",
      "b\n",
      "c\n",
      "d\n"
     ]
    }
   ],
   "source": [
    "#21 combinations\n",
    "data = {'1':['a','b'],'2':['c','d']}\n",
    "print(data)\n",
    "for i in data:\n",
    "    for j in data[i]:\n",
    "        data[i][j]"
   ]
  },
  {
   "cell_type": "code",
   "execution_count": 63,
   "metadata": {},
   "outputs": [
    {
     "name": "stdout",
     "output_type": "stream",
     "text": [
      "5\n",
      "4\n",
      "3\n"
     ]
    }
   ],
   "source": [
    "#22 top 3\n",
    "dic = {'a':3, 'b':2, 'c': 5,'d': 1, 'e':4}\n",
    "temp = {}\n",
    "sort = {}\n",
    "for i in dic:\n",
    "    temp.update({dic[i]:i})\n",
    "\n",
    "temp = sorted(temp.items())\n",
    "temp = dict(temp)\n",
    "sort = dict(zip(temp.values(),temp.keys()))\n",
    "for i in range(3):\n",
    "    print(sort.popitem()[1])\n"
   ]
  },
  {
   "cell_type": "code",
   "execution_count": null,
   "metadata": {},
   "outputs": [],
   "source": [
    "# combine values of list into dictionary\n",
    "data = [{'item':'item1','amount':400},{'item':'item2','amount':300},{'item':'item3','amount':750}]\n",
    "combined = {}\n",
    "for i in data:\n",
    "    values = list(i.values())\n",
    "    k = 0\n",
    "    while k < len(values)-1:\n",
    "        combined.update({values[k]:values[k+1]})\n",
    "        k =k+1\n",
    "print(combined)"
   ]
  },
  {
   "cell_type": "code",
   "execution_count": null,
   "metadata": {},
   "outputs": [],
   "source": []
  },
  {
   "cell_type": "code",
   "execution_count": null,
   "metadata": {},
   "outputs": [],
   "source": []
  },
  {
   "cell_type": "code",
   "execution_count": null,
   "metadata": {},
   "outputs": [],
   "source": []
  },
  {
   "cell_type": "code",
   "execution_count": null,
   "metadata": {},
   "outputs": [],
   "source": []
  },
  {
   "cell_type": "code",
   "execution_count": 45,
   "metadata": {},
   "outputs": [
    {
     "name": "stdout",
     "output_type": "stream",
     "text": [
      "{'a': 15, 'b': 15, 'c': 15, 'd': 15, 'e': 15}\n"
     ]
    }
   ],
   "source": [
    "#37 program to replace dictionary values with their sum\n",
    "dic = {'a':3, 'b':2, 'c': 5,'d': 1, 'e':4}\n",
    "summ = 0\n",
    "for i in dic:\n",
    "    summ = summ+dic[i]\n",
    "for i in dic:\n",
    "        dic.update({i:summ})\n",
    "print(dic)"
   ]
  },
  {
   "cell_type": "code",
   "execution_count": null,
   "metadata": {},
   "outputs": [],
   "source": []
  },
  {
   "cell_type": "code",
   "execution_count": 36,
   "metadata": {},
   "outputs": [
    {
     "name": "stdout",
     "output_type": "stream",
     "text": [
      "key a: 3 is present in both dictionaries\n",
      "key d: 5 is present in both dictionaries\n",
      "key e: 4 is present in both dictionaries\n"
     ]
    }
   ],
   "source": [
    "#38 matching key values in two dictionaries\n",
    "dic = {'a':3, 'b':2, 'd': 5,'c': 1, 'e':4}\n",
    "dic2 = {'a':3, 'x':99, 'd': 5,'alpha': 1, 'e':4}\n",
    "for i in dic:\n",
    "    for j in dic2:\n",
    "        if dic[i]==dic2[j] and i == j:\n",
    "            print(\"key %s: %s is present in both dictionaries\"%(i,dic[i]) )"
   ]
  },
  {
   "cell_type": "code",
   "execution_count": null,
   "metadata": {},
   "outputs": [],
   "source": []
  }
 ],
 "metadata": {
  "kernelspec": {
   "display_name": "Python 3",
   "language": "python",
   "name": "python3"
  },
  "language_info": {
   "codemirror_mode": {
    "name": "ipython",
    "version": 3
   },
   "file_extension": ".py",
   "mimetype": "text/x-python",
   "name": "python",
   "nbconvert_exporter": "python",
   "pygments_lexer": "ipython3",
   "version": "3.6.3"
  }
 },
 "nbformat": 4,
 "nbformat_minor": 2
}

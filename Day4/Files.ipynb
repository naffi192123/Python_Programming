{
 "cells": [
  {
   "cell_type": "code",
   "execution_count": null,
   "metadata": {},
   "outputs": [],
   "source": [
    "#read entire file in python\n",
    "with open('avg_ratings1.csv','r') as temp:\n",
    "    contents = temp.read()\n",
    "print(contents)"
   ]
  },
  {
   "cell_type": "code",
   "execution_count": 19,
   "metadata": {},
   "outputs": [
    {
     "name": "stdout",
     "output_type": "stream",
     "text": [
      "['File Handling\\n', '1. Write a Python program to read an entire text file.\\n', '2. Write a Python program to read first n lines of a file.\\n', '3. Write a Python program to append text to a file and display the text.\\n', '4. Write a Python program to read last n lines of a file.\\n']\n"
     ]
    }
   ],
   "source": [
    "#first n lines in pyhton\n",
    "fo = open(\"file1\", \"r+\")\n",
    "firstNlines=fo.readlines()[0:5]\n",
    "fo.close()\n",
    "print(firstNlines)"
   ]
  },
  {
   "cell_type": "code",
   "execution_count": 27,
   "metadata": {},
   "outputs": [],
   "source": [
    "# writing file in python\n",
    "temp = open(\"myfilewrite.txt\",\"w\")\n",
    "for i in range(10):\n",
    "    temp.write(\"this is line number %s\\n\"%(i+1))\n",
    "temp.close()\n",
    "# writing file in python\n",
    "temp = open(\"myfilewrite.txt\",\"w\")\n",
    "for i in range(10):\n",
    "    temp.write(\"this is line number %s\\n\"%(i+2))\n",
    "temp.close()"
   ]
  },
  {
   "cell_type": "code",
   "execution_count": 30,
   "metadata": {},
   "outputs": [],
   "source": [
    "# Append files in pyhton \n",
    "temp = open(\"myfilewrite.txt\",\"w\")\n",
    "for i in range(10):\n",
    "    temp.write(\"this is line number %s\\n\"%(i+1))\n",
    "temp.close()\n",
    "#file 2\n",
    "temp = open(\"myfilewrite.txt\",\"a\")\n",
    "for i in range(10):\n",
    "    temp.write(\"this is line number %s\\n\"%(i+1))\n",
    "temp.close()\n"
   ]
  },
  {
   "cell_type": "code",
   "execution_count": 52,
   "metadata": {},
   "outputs": [
    {
     "name": "stdout",
     "output_type": "stream",
     "text": [
      "[]\n"
     ]
    }
   ],
   "source": [
    "# last n lines \n",
    "fo = open(\"file1\", \"r\")\n",
    "num_lines = 0\n",
    "for line in fo:\n",
    "        num_lines += 1\n",
    "firstNlines=fo.readlines()[-5:]\n",
    "print(firstNlines)\n",
    "fo.close()\n"
   ]
  },
  {
   "cell_type": "code",
   "execution_count": 1,
   "metadata": {},
   "outputs": [
    {
     "name": "stdout",
     "output_type": "stream",
     "text": [
      "['File Handling\\n', '1. Write a Python program to read an entire text file.\\n', '2. Write a Python program to read first n lines of a file.\\n', '3. Write a Python program to append text to a file and display the text.\\n', '4. Write a Python program to read last n lines of a file.\\n', '5. Write a Python program to read a file line by line and store it into a list.\\n', '6. Write a Python program to read a file line by line store it into a variable.\\n', '7. Write a Python program to read a file line by line store it into an array.\\n', '8. Write a python program to find the longest words.\\n', '9. Write a Python program to count the number of lines in a text file.\\n', '10. Write a Python program to count the frequency of words in a file.\\n', '11. Write a Python program to get the file size of a plain file.\\n', '12. Write a Python program to write a list to a file.\\n', '13. Write a Python program to copy the contents of a file to another file\\n', '14. Write a Python program to combine each line from first file with the corresponding line in second file.\\n', '15. Write a Python program to read a random line from a file.\\n', '16. Write a Python program to assess if a file is closed or not.\\n', '17. Write a Python program to remove newline characters from a file.\\n', 'NumPy:\\n', '1. Write a NumPy program to get the numpy version and show numpy build configuration.\\n', '2. Write a NumPy program to\\xa0 get help on the add function.\\n', '3. Write a NumPy program to\\xa0test whether none of the elements of a given array is zero.\\n', '4. Write a NumPy program to\\xa0test if any of the elements of a given array is non-zero.\\n', '5. Write a NumPy program to\\xa0test a given array element-wise for finiteness (not infinity or not a Number).\\n', '6. Write a NumPy program to convert a list of numeric value into a one-dimensional NumPy array.\\n', '7. Write a NumPy program to create a 3x3 matrix with values ranging from 2 to 10.\\n', '8. Write a NumPy program to create a null vector of size 10 and update sixth value to 11.\\n', '9. Write a NumPy program to create a array with values ranging from 12 to 38.\\n', '10. Write a NumPy program to reverse an array (first element becomes last).\\n', '11. Write a NumPy program to an array converted to a float type.\\n', '12. Write a NumPy program to create a 2d array with 1 on the border and 0 inside.\\n', \"13. Write a NumPy program to add a border (filled with 0's) around an existing array.\\n\", '14. Write a NumPy program to create a 8x8 matrix and fill it with a checkerboard pattern.\\n', '15. Write a NumPy program to convert a list and tuple into arrays.\\n', '16. Write a NumPy program to append values to the end of an array.\\n', '17. Write a NumPy program to create an empty and a full array.\\n', '18. Write a NumPy program to convert the values of Centigrade degrees into Fahrenheit degrees. Centigrade values are stored into a NumPy array.\\n', '19. Write a NumPy program to find the real and imaginary parts of an array of complex numbers.\\n', '20. Write a NumPy program to find the number of elements of an array, length of one array element in bytes and total bytes consumed by the elements.\\n', '21. Write a NumPy program to test whether each element of a 1-D array is also present in a second array\\n', '22. Write a NumPy program to find common values between two arrays.\\n', '23. Write a NumPy program to get the unique elements of an array.\\n', '24. Write a NumPy program to find the set difference of two arrays. The set difference will return the sorted, unique values in array1 that are not in array2.\\n', '25. Write a NumPy program to find the set exclusive-or of two arrays. Set exclusive-or will return the sorted, unique values that are in only one (not both) of the input arrays.\\n', '26. Write a NumPy program to find the union of two arrays. Union will return the unique, sorted array of values that are in either of the two input arrays.\\n', '27. Write a NumPy program compare two arrays using numpy.\\n', '28. Write a NumPy program to sort pairs of first name and last name return their indices. (first by last name, then by first name).\\n']\n"
     ]
    }
   ],
   "source": [
    "#read a file and store it into variable\n",
    "lis = []\n",
    "with open('file1','r') as file:\n",
    "    for i in file:\n",
    "        lis.append(i)\n",
    "print(lis)"
   ]
  },
  {
   "cell_type": "code",
   "execution_count": 23,
   "metadata": {},
   "outputs": [
    {
     "name": "stdout",
     "output_type": "stream",
     "text": [
      "1\n",
      "name).\n",
      "\n"
     ]
    }
   ],
   "source": [
    "#longest word in a file\n",
    "lis = []\n",
    "with open('file1','r') as file:\n",
    "    for i in file:\n",
    "        lis.append(i.split(\" \"))\n",
    "cont = 0\n",
    "\n",
    "print(val.count(val))\n",
    "for i in lis:\n",
    "    for j in i:\n",
    "        ctr = 0\n",
    "        for k in j:\n",
    "            ctr +=1\n",
    "        if ctr > cont:\n",
    "            longest = j\n",
    "print(longest)"
   ]
  },
  {
   "cell_type": "code",
   "execution_count": null,
   "metadata": {},
   "outputs": [],
   "source": []
  }
 ],
 "metadata": {
  "kernelspec": {
   "display_name": "Python 3",
   "language": "python",
   "name": "python3"
  },
  "language_info": {
   "codemirror_mode": {
    "name": "ipython",
    "version": 3
   },
   "file_extension": ".py",
   "mimetype": "text/x-python",
   "name": "python",
   "nbconvert_exporter": "python",
   "pygments_lexer": "ipython3",
   "version": "3.6.3"
  }
 },
 "nbformat": 4,
 "nbformat_minor": 2
}
